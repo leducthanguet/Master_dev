{
  "nbformat": 4,
  "nbformat_minor": 0,
  "metadata": {
    "colab": {
      "name": "Time.ipynb",
      "provenance": []
    },
    "kernelspec": {
      "name": "python3",
      "display_name": "Python 3"
    },
    "language_info": {
      "name": "python"
    }
  },
  "cells": [
    {
      "cell_type": "code",
      "metadata": {
        "id": "3mR3xrNxJjui"
      },
      "source": [
        "import numpy as np\n",
        "import matplotlib.pyplot  as plt\n",
        "import random\n",
        "import time"
      ],
      "execution_count": 118,
      "outputs": []
    },
    {
      "cell_type": "code",
      "metadata": {
        "id": "1xhUAju5KC_X"
      },
      "source": [
        "array = []\n",
        "for i in range(50000):\n",
        "  array.append(i)\n",
        "  array.append(i)\n",
        "for i in range(50001,100000,1):\n",
        "  array.append(i)\n",
        "  array.append(i)\n",
        "array.append(50000)\n"
      ],
      "execution_count": 119,
      "outputs": []
    },
    {
      "cell_type": "code",
      "metadata": {
        "colab": {
          "base_uri": "https://localhost:8080/"
        },
        "id": "NUfQdn9ETgRW",
        "outputId": "7f1d5376-55d5-46ee-fa92-9caadf9a8c66"
      },
      "source": [
        "len(array)"
      ],
      "execution_count": 120,
      "outputs": [
        {
          "output_type": "execute_result",
          "data": {
            "text/plain": [
              "199999"
            ]
          },
          "metadata": {
            "tags": []
          },
          "execution_count": 120
        }
      ]
    },
    {
      "cell_type": "code",
      "metadata": {
        "id": "ypi5nmAdVdcV"
      },
      "source": [
        "array=np.sort(array)"
      ],
      "execution_count": 121,
      "outputs": []
    },
    {
      "cell_type": "code",
      "metadata": {
        "id": "zqTuMRJOM7cJ"
      },
      "source": [
        "def singleNumber(nums):\n",
        "        start_time = time.time()\n",
        "        for i in range(len(nums)):\n",
        "            if i==0:\n",
        "                if nums[i]!=nums[i+1]:\n",
        "                   end_time = time.time()\n",
        "                   return nums[i],end_time-start_time\n",
        "            else:\n",
        "                if nums[i]!= nums[i-1] and nums[i]!=nums[i+1]:\n",
        "                   end_time = time.time()\n",
        "                   return nums[i],end_time-start_time\n",
        "        end_time = time.time()\n",
        "        return -1,end_time-start_time"
      ],
      "execution_count": 122,
      "outputs": []
    },
    {
      "cell_type": "code",
      "metadata": {
        "id": "_CFG9vLZOVPr"
      },
      "source": [
        "times = []"
      ],
      "execution_count": 123,
      "outputs": []
    },
    {
      "cell_type": "code",
      "metadata": {
        "id": "cxPo9ISrNnqw"
      },
      "source": [
        "for i in range(100):\n",
        " times.append(singleNumber(array)[1])"
      ],
      "execution_count": 124,
      "outputs": []
    },
    {
      "cell_type": "code",
      "metadata": {
        "id": "bGOurJFROYZ5",
        "colab": {
          "base_uri": "https://localhost:8080/",
          "height": 266
        },
        "outputId": "00be2294-a9ec-483c-de52-dbd23b96c54b"
      },
      "source": [
        "plt.hist(times, 10)\n",
        "plt.show()"
      ],
      "execution_count": 128,
      "outputs": [
        {
          "output_type": "display_data",
          "data": {
            "image/png": "[encoded data removed]",
            "text/plain": [
              "<Figure size 432x288 with 1 Axes>"
            ]
          },
          "metadata": {
            "tags": [],
            "needs_background": "light"
          }
        }
      ]
    },
    {
      "cell_type": "code",
      "metadata": {
        "id": "tiB2l_6jjqLO"
      },
      "source": [
        "mean = np.mean(times)\n",
        "std = np.std(times)\n",
        "variance = std*std\n",
        "median = np.median(times)\n",
        "min = np.min(times)\n",
        "max = np.max(times)"
      ],
      "execution_count": 130,
      "outputs": []
    }
  ]
}