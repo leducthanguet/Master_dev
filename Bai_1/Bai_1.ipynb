{
  "nbformat": 4,
  "nbformat_minor": 0,
  "metadata": {
    "colab": {
      "name": "Bai_1.ipynb",
      "provenance": []
    },
    "kernelspec": {
      "name": "python3",
      "display_name": "Python 3"
    },
    "language_info": {
      "name": "python"
    }
  },
  "cells": [
    {
      "cell_type": "code",
      "metadata": {
        "id": "-nUBrYBh1Cm_"
      },
      "source": [
        "import matplotlib.pyplot as plt\n",
        "import numpy             as np\n"
      ],
      "execution_count": null,
      "outputs": []
    },
    {
      "cell_type": "code",
      "metadata": {
        "id": "DiaI9_Ws1wSZ"
      },
      "source": [
        "import random as r"
      ],
      "execution_count": null,
      "outputs": []
    },
    {
      "cell_type": "code",
      "metadata": {
        "id": "XtKE91KY5eY6"
      },
      "source": [
        "\n",
        "N = 20\n",
        "result = []"
      ],
      "execution_count": null,
      "outputs": []
    },
    {
      "cell_type": "code",
      "metadata": {
        "id": "KA83e4N_5eVO"
      },
      "source": [
        "for i in range(2000):\n",
        " number_of_circle = 0\n",
        " number_of_sqare  = 0\n",
        " for i in range(2000):\n",
        "   x = r.random()\n",
        "   y = r.random()\n",
        "   if np.sqrt(x*x + y*y) < 1:\n",
        "     number_of_circle = number_of_circle + 1\n",
        "   number_of_sqare = number_of_sqare + 1\n",
        " result.append(4.00000000*(float(number_of_circle)/float(number_of_sqare)))"
      ],
      "execution_count": null,
      "outputs": []
    },
    {
      "cell_type": "code",
      "metadata": {
        "id": "8SxY93gg5eQJ"
      },
      "source": [
        "mean = np.sum(result)/len(result)"
      ],
      "execution_count": null,
      "outputs": []
    },
    {
      "cell_type": "code",
      "metadata": {
        "colab": {
          "base_uri": "https://localhost:8080/"
        },
        "id": "abH4e2WIkVlg",
        "outputId": "d5fd1921-a6cb-4b1c-c8ff-756f182fa1de"
      },
      "source": [
        "np.mean(result)"
      ],
      "execution_count": 45,
      "outputs": [
        {
          "output_type": "execute_result",
          "data": {
            "text/plain": [
              "3.1410688571428573"
            ]
          },
          "metadata": {
            "tags": []
          },
          "execution_count": 45
        }
      ]
    },
    {
      "cell_type": "code",
      "metadata": {
        "colab": {
          "base_uri": "https://localhost:8080/"
        },
        "id": "Wg80OWOG7Inp",
        "outputId": "19496871-018a-4668-a24a-c234f829a4cc"
      },
      "source": [
        "mean"
      ],
      "execution_count": null,
      "outputs": [
        {
          "output_type": "execute_result",
          "data": {
            "text/plain": [
              "3.1385859999999997"
            ]
          },
          "metadata": {
            "tags": []
          },
          "execution_count": 32
        }
      ]
    },
    {
      "cell_type": "code",
      "metadata": {
        "colab": {
          "base_uri": "https://localhost:8080/"
        },
        "id": "noIFko8X7Z7p",
        "outputId": "73139fa2-60ef-4850-9c09-a97949e68f17"
      },
      "source": [
        "variance = 0.000\n",
        "for i in range(len(result)):\n",
        "  variance += (result[i] - mean) * (result[i] - mean)\n",
        "variance = variance/(len(result)-1)\n",
        "print(variance)"
      ],
      "execution_count": null,
      "outputs": [
        {
          "output_type": "stream",
          "text": [
            "0.0004500212161616166\n"
          ],
          "name": "stdout"
        }
      ]
    },
    {
      "cell_type": "code",
      "metadata": {
        "id": "ACNCqETB7Zsd"
      },
      "source": [
        "standard = np.sqrt(variance)"
      ],
      "execution_count": null,
      "outputs": []
    },
    {
      "cell_type": "code",
      "metadata": {
        "colab": {
          "base_uri": "https://localhost:8080/",
          "height": 265
        },
        "id": "57bhEPUT7_4I",
        "outputId": "8f22024c-a12b-475c-a9d8-a0360442b178"
      },
      "source": [
        "plt.hist(result,46)\n",
        "plt.show()"
      ],
      "execution_count": null,
      "outputs": [
        {
          "output_type": "display_data",
          "data": {
            "image/png": "[encoded data removed]",
            "text/plain": [
              "<Figure size 432x288 with 1 Axes>"
            ]
          },
          "metadata": {
            "tags": [],
            "needs_background": "light"
          }
        }
      ]
    },
    {
      "cell_type": "code",
      "metadata": {
        "id": "zMpssT-Z7_0G"
      },
      "source": [
        "min = np.min(result)\n",
        "max = np.max(result)\n",
        "median = np.median(np.sort(result))\n",
        "standard = np.sqrt(variance)\n",
        "min = np.min()"
      ],
      "execution_count": null,
      "outputs": []
    },
    {
      "cell_type": "code",
      "metadata": {
        "id": "YMINM7Rc8wAX",
        "colab": {
          "base_uri": "https://localhost:8080/"
        },
        "outputId": "2d2f7eb1-acfd-4654-fc80-d2a1336f4ed2"
      },
      "source": [
        "standard"
      ],
      "execution_count": 43,
      "outputs": [
        {
          "output_type": "execute_result",
          "data": {
            "text/plain": [
              "0.02121370349942736"
            ]
          },
          "metadata": {
            "tags": []
          },
          "execution_count": 43
        }
      ]
    },
    {
      "cell_type": "code",
      "metadata": {
        "id": "URzosbJy8v38",
        "colab": {
          "base_uri": "https://localhost:8080/"
        },
        "outputId": "af277ea7-ee31-46dc-8646-c2d735bcf2ce"
      },
      "source": [
        "np.std(result)"
      ],
      "execution_count": 44,
      "outputs": [
        {
          "output_type": "execute_result",
          "data": {
            "text/plain": [
              "0.036398619042728654"
            ]
          },
          "metadata": {
            "tags": []
          },
          "execution_count": 44
        }
      ]
    },
    {
      "cell_type": "code",
      "metadata": {
        "id": "6n5hnbjq7_x9"
      },
      "source": [
        ""
      ],
      "execution_count": null,
      "outputs": []
    }
  ]
}